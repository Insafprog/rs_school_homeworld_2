{
  "nbformat": 4,
  "nbformat_minor": 0,
  "metadata": {
    "kernelspec": {
      "display_name": "Python 3",
      "language": "python",
      "name": "python3"
    },
    "language_info": {
      "codemirror_mode": {
        "name": "ipython",
        "version": 3
      },
      "file_extension": ".py",
      "mimetype": "text/x-python",
      "name": "python",
      "nbconvert_exporter": "python",
      "pygments_lexer": "ipython3",
      "version": "3.8.5"
    },
    "colab": {
      "name": "Копия блокнота \"classification.ipynb\"",
      "provenance": [],
      "collapsed_sections": [],
      "toc_visible": true
    }
  },
  "cells": [
    {
      "cell_type": "markdown",
      "metadata": {
        "id": "cmzQH23v7gA1"
      },
      "source": [
        "# Classification. Linear models and KNN"
      ]
    },
    {
      "cell_type": "code",
      "metadata": {
        "id": "AJ1sLjJK7gA_"
      },
      "source": [
        "import os\n",
        "import numpy as np\n",
        "import pandas as pd\n",
        "import seaborn as sns\n",
        "import matplotlib.pyplot as plt\n",
        "import plotly.express as px"
      ],
      "execution_count": null,
      "outputs": []
    },
    {
      "cell_type": "code",
      "metadata": {
        "id": "ZmgZxhWe7gBA"
      },
      "source": [
        "from sklearn.pipeline import Pipeline, make_pipeline\n",
        "from sklearn.compose import ColumnTransformer, make_column_transformer, make_column_selector\n",
        "from sklearn.model_selection import train_test_split, cross_validate\n",
        "from sklearn.metrics import plot_confusion_matrix, accuracy_score, roc_auc_score, make_scorer\n",
        "from sklearn.linear_model import SGDClassifier, LogisticRegression\n",
        "from sklearn.preprocessing import StandardScaler, OneHotEncoder, MinMaxScaler, Normalizer\n",
        "from sklearn.feature_selection import RFECV, SelectFromModel\n",
        "from sklearn.model_selection import GridSearchCV\n",
        "from sklearn.neighbors import KNeighborsClassifier\n",
        "from sklearn.model_selection import KFold\n",
        "from sklearn.ensemble import StackingClassifier\n",
        "from sklearn.base import BaseEstimator, TransformerMixin"
      ],
      "execution_count": null,
      "outputs": []
    },
    {
      "cell_type": "markdown",
      "metadata": {
        "id": "_R7orVsf7gBA"
      },
      "source": [
        "## Part 1: Titanic survival prediction"
      ]
    },
    {
      "cell_type": "markdown",
      "metadata": {
        "id": "DG2LPn9Y7gBA"
      },
      "source": [
        "### Dataset\n",
        "\n",
        "Read the description here: https://www.kaggle.com/c/titanic/data. Download the dataset and place it in the *data/titanic/* folder in your working directory.\n",
        "You will use train.csv for model training and validation. The test set is used for model testing: once the model is trained, you can predict whether a passenger survived or not for each passenger in the test set, and submit the predictions: https://www.kaggle.com/c/titanic/overview/evaluation.  \n"
      ]
    },
    {
      "cell_type": "code",
      "metadata": {
        "id": "jg-quReo7gBB"
      },
      "source": [
        "PATH = \"https://storage.googleapis.com/kagglesdsdata/competitions/3136/26502/train.csv?GoogleAccessId=web-data@kaggle-161607.iam.gserviceaccount.com&Expires=1614604779&Signature=jlyXM0MDSxtcmftKwxn4q6izZ2QkEn0TwC1iu70tqOahQcMB%2FcYMgxGoh3XcFlM2vshCkO2dYGgRo6NTkefHz2FosyyLePmXRHAPpDhYyYY0ajTuHwA%2FtmMfKLcU0LkYbSgFvTcc2LA3gh8pphkGfJZlGX9RnQ%2B8HGwqvQBC7b0Nhaod1wvvNpfSNUlFD3FWy63%2FDYETpg7dIgLOnGUpmsV3pjGDM4Rf3oYK3UeyN57JlMGX5OMDUhmdY2LRZR8CaNuECyPPlHf25kdJLnhtNaVtcu73mKUfC9gW7LHJPzsYOtBQSdGx5rtsqSQenFgu%2BVzR2%2Bwgw5nEZ8TmGHHQxg%3D%3D&response-content-disposition=attachment%3B+filename%3Dtrain.csv\""
      ],
      "execution_count": null,
      "outputs": []
    },
    {
      "cell_type": "code",
      "metadata": {
        "id": "GZ2QtaMK7gBB"
      },
      "source": [
        "data = pd.read_csv(os.path.join(PATH, 'titanic', 'train.csv')).set_index('PassengerId')"
      ],
      "execution_count": null,
      "outputs": []
    },
    {
      "cell_type": "code",
      "metadata": {
        "scrolled": true,
        "colab": {
          "base_uri": "https://localhost:8080/",
          "height": 518
        },
        "id": "Zu7ST45o7gBC",
        "outputId": "ae27164d-0b46-470e-f4c1-0c2a23abfded"
      },
      "source": [
        "data"
      ],
      "execution_count": null,
      "outputs": [
        {
          "output_type": "execute_result",
          "data": {
            "text/html": [
              "<div>\n",
              "<style scoped>\n",
              "    .dataframe tbody tr th:only-of-type {\n",
              "        vertical-align: middle;\n",
              "    }\n",
              "\n",
              "    .dataframe tbody tr th {\n",
              "        vertical-align: top;\n",
              "    }\n",
              "\n",
              "    .dataframe thead th {\n",
              "        text-align: right;\n",
              "    }\n",
              "</style>\n",
              "<table border=\"1\" class=\"dataframe\">\n",
              "  <thead>\n",
              "    <tr style=\"text-align: right;\">\n",
              "      <th></th>\n",
              "      <th>Survived</th>\n",
              "      <th>Pclass</th>\n",
              "      <th>Name</th>\n",
              "      <th>Sex</th>\n",
              "      <th>Age</th>\n",
              "      <th>SibSp</th>\n",
              "      <th>Parch</th>\n",
              "      <th>Ticket</th>\n",
              "      <th>Fare</th>\n",
              "      <th>Cabin</th>\n",
              "      <th>Embarked</th>\n",
              "    </tr>\n",
              "    <tr>\n",
              "      <th>PassengerId</th>\n",
              "      <th></th>\n",
              "      <th></th>\n",
              "      <th></th>\n",
              "      <th></th>\n",
              "      <th></th>\n",
              "      <th></th>\n",
              "      <th></th>\n",
              "      <th></th>\n",
              "      <th></th>\n",
              "      <th></th>\n",
              "      <th></th>\n",
              "    </tr>\n",
              "  </thead>\n",
              "  <tbody>\n",
              "    <tr>\n",
              "      <th>1</th>\n",
              "      <td>0</td>\n",
              "      <td>3</td>\n",
              "      <td>Braund, Mr. Owen Harris</td>\n",
              "      <td>male</td>\n",
              "      <td>22.0</td>\n",
              "      <td>1</td>\n",
              "      <td>0</td>\n",
              "      <td>A/5 21171</td>\n",
              "      <td>7.2500</td>\n",
              "      <td>NaN</td>\n",
              "      <td>S</td>\n",
              "    </tr>\n",
              "    <tr>\n",
              "      <th>2</th>\n",
              "      <td>1</td>\n",
              "      <td>1</td>\n",
              "      <td>Cumings, Mrs. John Bradley (Florence Briggs Th...</td>\n",
              "      <td>female</td>\n",
              "      <td>38.0</td>\n",
              "      <td>1</td>\n",
              "      <td>0</td>\n",
              "      <td>PC 17599</td>\n",
              "      <td>71.2833</td>\n",
              "      <td>C85</td>\n",
              "      <td>C</td>\n",
              "    </tr>\n",
              "    <tr>\n",
              "      <th>3</th>\n",
              "      <td>1</td>\n",
              "      <td>3</td>\n",
              "      <td>Heikkinen, Miss. Laina</td>\n",
              "      <td>female</td>\n",
              "      <td>26.0</td>\n",
              "      <td>0</td>\n",
              "      <td>0</td>\n",
              "      <td>STON/O2. 3101282</td>\n",
              "      <td>7.9250</td>\n",
              "      <td>NaN</td>\n",
              "      <td>S</td>\n",
              "    </tr>\n",
              "    <tr>\n",
              "      <th>4</th>\n",
              "      <td>1</td>\n",
              "      <td>1</td>\n",
              "      <td>Futrelle, Mrs. Jacques Heath (Lily May Peel)</td>\n",
              "      <td>female</td>\n",
              "      <td>35.0</td>\n",
              "      <td>1</td>\n",
              "      <td>0</td>\n",
              "      <td>113803</td>\n",
              "      <td>53.1000</td>\n",
              "      <td>C123</td>\n",
              "      <td>S</td>\n",
              "    </tr>\n",
              "    <tr>\n",
              "      <th>5</th>\n",
              "      <td>0</td>\n",
              "      <td>3</td>\n",
              "      <td>Allen, Mr. William Henry</td>\n",
              "      <td>male</td>\n",
              "      <td>35.0</td>\n",
              "      <td>0</td>\n",
              "      <td>0</td>\n",
              "      <td>373450</td>\n",
              "      <td>8.0500</td>\n",
              "      <td>NaN</td>\n",
              "      <td>S</td>\n",
              "    </tr>\n",
              "    <tr>\n",
              "      <th>...</th>\n",
              "      <td>...</td>\n",
              "      <td>...</td>\n",
              "      <td>...</td>\n",
              "      <td>...</td>\n",
              "      <td>...</td>\n",
              "      <td>...</td>\n",
              "      <td>...</td>\n",
              "      <td>...</td>\n",
              "      <td>...</td>\n",
              "      <td>...</td>\n",
              "      <td>...</td>\n",
              "    </tr>\n",
              "    <tr>\n",
              "      <th>887</th>\n",
              "      <td>0</td>\n",
              "      <td>2</td>\n",
              "      <td>Montvila, Rev. Juozas</td>\n",
              "      <td>male</td>\n",
              "      <td>27.0</td>\n",
              "      <td>0</td>\n",
              "      <td>0</td>\n",
              "      <td>211536</td>\n",
              "      <td>13.0000</td>\n",
              "      <td>NaN</td>\n",
              "      <td>S</td>\n",
              "    </tr>\n",
              "    <tr>\n",
              "      <th>888</th>\n",
              "      <td>1</td>\n",
              "      <td>1</td>\n",
              "      <td>Graham, Miss. Margaret Edith</td>\n",
              "      <td>female</td>\n",
              "      <td>19.0</td>\n",
              "      <td>0</td>\n",
              "      <td>0</td>\n",
              "      <td>112053</td>\n",
              "      <td>30.0000</td>\n",
              "      <td>B42</td>\n",
              "      <td>S</td>\n",
              "    </tr>\n",
              "    <tr>\n",
              "      <th>889</th>\n",
              "      <td>0</td>\n",
              "      <td>3</td>\n",
              "      <td>Johnston, Miss. Catherine Helen \"Carrie\"</td>\n",
              "      <td>female</td>\n",
              "      <td>NaN</td>\n",
              "      <td>1</td>\n",
              "      <td>2</td>\n",
              "      <td>W./C. 6607</td>\n",
              "      <td>23.4500</td>\n",
              "      <td>NaN</td>\n",
              "      <td>S</td>\n",
              "    </tr>\n",
              "    <tr>\n",
              "      <th>890</th>\n",
              "      <td>1</td>\n",
              "      <td>1</td>\n",
              "      <td>Behr, Mr. Karl Howell</td>\n",
              "      <td>male</td>\n",
              "      <td>26.0</td>\n",
              "      <td>0</td>\n",
              "      <td>0</td>\n",
              "      <td>111369</td>\n",
              "      <td>30.0000</td>\n",
              "      <td>C148</td>\n",
              "      <td>C</td>\n",
              "    </tr>\n",
              "    <tr>\n",
              "      <th>891</th>\n",
              "      <td>0</td>\n",
              "      <td>3</td>\n",
              "      <td>Dooley, Mr. Patrick</td>\n",
              "      <td>male</td>\n",
              "      <td>32.0</td>\n",
              "      <td>0</td>\n",
              "      <td>0</td>\n",
              "      <td>370376</td>\n",
              "      <td>7.7500</td>\n",
              "      <td>NaN</td>\n",
              "      <td>Q</td>\n",
              "    </tr>\n",
              "  </tbody>\n",
              "</table>\n",
              "<p>891 rows × 11 columns</p>\n",
              "</div>"
            ],
            "text/plain": [
              "             Survived  Pclass  ... Cabin Embarked\n",
              "PassengerId                    ...               \n",
              "1                   0       3  ...   NaN        S\n",
              "2                   1       1  ...   C85        C\n",
              "3                   1       3  ...   NaN        S\n",
              "4                   1       1  ...  C123        S\n",
              "5                   0       3  ...   NaN        S\n",
              "...               ...     ...  ...   ...      ...\n",
              "887                 0       2  ...   NaN        S\n",
              "888                 1       1  ...   B42        S\n",
              "889                 0       3  ...   NaN        S\n",
              "890                 1       1  ...  C148        C\n",
              "891                 0       3  ...   NaN        Q\n",
              "\n",
              "[891 rows x 11 columns]"
            ]
          },
          "metadata": {
            "tags": []
          },
          "execution_count": 383
        }
      ]
    },
    {
      "cell_type": "markdown",
      "metadata": {
        "id": "JMJBwCnz7gBD"
      },
      "source": [
        "### EDA"
      ]
    },
    {
      "cell_type": "markdown",
      "metadata": {
        "id": "N3mue9g97gBD"
      },
      "source": [
        "**(0.5 points)** How many females and males are there in the dataset? What about the survived passengers? Is there any relationship between the gender and the survival?"
      ]
    },
    {
      "cell_type": "code",
      "metadata": {
        "colab": {
          "base_uri": "https://localhost:8080/",
          "height": 35
        },
        "id": "6FLBkaKWmLxm",
        "outputId": "09498313-f603-438f-c7a5-30d5fb290281"
      },
      "source": [
        "sex = data['Sex'].value_counts()\r\n",
        "f'{sex.female} females and {sex.male} males in the dataset'"
      ],
      "execution_count": null,
      "outputs": [
        {
          "output_type": "execute_result",
          "data": {
            "application/vnd.google.colaboratory.intrinsic+json": {
              "type": "string"
            },
            "text/plain": [
              "'314 females and 577 males in the dataset'"
            ]
          },
          "metadata": {
            "tags": []
          },
          "execution_count": 384
        }
      ]
    },
    {
      "cell_type": "code",
      "metadata": {
        "colab": {
          "base_uri": "https://localhost:8080/",
          "height": 35
        },
        "id": "cnPKrM4xo8CA",
        "outputId": "b7c4c681-f637-4400-bcb4-dc2c970eb003"
      },
      "source": [
        "survived = data['Survived'].value_counts()\r\n",
        "f'{survived[1]} people survived and {survived[0]} dead in the dataset'"
      ],
      "execution_count": null,
      "outputs": [
        {
          "output_type": "execute_result",
          "data": {
            "application/vnd.google.colaboratory.intrinsic+json": {
              "type": "string"
            },
            "text/plain": [
              "'342 people survived and 549 dead in the dataset'"
            ]
          },
          "metadata": {
            "tags": []
          },
          "execution_count": 385
        }
      ]
    },
    {
      "cell_type": "code",
      "metadata": {
        "colab": {
          "base_uri": "https://localhost:8080/",
          "height": 295
        },
        "id": "5Vo2zrcup0Z_",
        "outputId": "5c7a021c-1fe5-4041-84ac-3989e4c54598"
      },
      "source": [
        "cp = sns.countplot(x='Sex', hue='Survived', data=data)\r\n",
        "cp.set_xticklabels(['male', 'female'])\r\n",
        "cp.legend(['deceased', 'survived'])\r\n",
        "plt.title('Gender and the survival')\r\n",
        "plt.ylabel('Count')\r\n",
        "plt.show()"
      ],
      "execution_count": null,
      "outputs": [
        {
          "output_type": "display_data",
          "data": {
            "image/png": "[encoded data removed]",
            "text/plain": [
              "<Figure size 432x288 with 1 Axes>"
            ]
          },
          "metadata": {
            "tags": [],
            "needs_background": "light"
          }
        }
      ]
    },
    {
      "cell_type": "markdown",
      "metadata": {
        "id": "EsMDYPOD7gBE"
      },
      "source": [
        "There is a definite connection between sex and the survivors. There are far more female survivors than men. I assume that women were put in the boats in the first place."
      ]
    },
    {
      "cell_type": "markdown",
      "metadata": {
        "id": "btF-jfiw7gBE"
      },
      "source": [
        "**(0.5 points)** Plot age distribution of the passengers. What is the average and the median age of survived and deceased passengers? Do age distributions differ for survived and deceased passengers? Why?"
      ]
    },
    {
      "cell_type": "code",
      "metadata": {
        "colab": {
          "base_uri": "https://localhost:8080/",
          "height": 295
        },
        "id": "V9l6Q_aS7gBF",
        "outputId": "12124eb0-fbe0-4c2d-80ee-4af7986a943f"
      },
      "source": [
        "sns.histplot(data, x='Age', element='step', hue='Survived',)\r\n",
        "plt.legend(['survived', 'deceased'])\r\n",
        "plt.title('Age distribution')\r\n",
        "plt.show()"
      ],
      "execution_count": null,
      "outputs": [
        {
          "output_type": "display_data",
          "data": {
            "image/png": "[encoded data removed]",
            "text/plain": [
              "<Figure size 432x288 with 1 Axes>"
            ]
          },
          "metadata": {
            "tags": [],
            "needs_background": "light"
          }
        }
      ]
    },
    {
      "cell_type": "code",
      "metadata": {
        "colab": {
          "base_uri": "https://localhost:8080/"
        },
        "id": "yAGL67gDz50C",
        "outputId": "b52597ed-cf4e-4c5c-8bda-5ba0a0512464"
      },
      "source": [
        "age_mean = (np.round(data[data['Survived']==0]['Age'].mean(), 2), np.round(data[data['Survived']==1]['Age'].mean(), 2))\r\n",
        "age_median = (np.round(data[data['Survived']==0]['Age'].median(), 2), np.round(data[data['Survived']==1]['Age'].median(), 2))\r\n",
        "print(f'Average age survived passengers = {age_mean[1]}, average age deceased passengers = {age_mean[0]}')\r\n",
        "print(f'Median age survived passengers = {age_median[1]}, median age deceased passengers = {age_median[0]}')"
      ],
      "execution_count": null,
      "outputs": [
        {
          "output_type": "stream",
          "text": [
            "Average age survived passengers = 28.34, average age deceased passengers = 30.63\n",
            "Median age survived passengers = 28.0, median age deceased passengers = 28.0\n"
          ],
          "name": "stdout"
        }
      ]
    },
    {
      "cell_type": "markdown",
      "metadata": {
        "id": "EnIcXKht7gBF"
      },
      "source": [
        "The relationship between survival and age is very weak. At the same time, it should be noted that the number of surviving infants is much higher. The mortality rate in middle age is much higher, but this is probably due to the fact that women with children and the elderly were put in the boat first. Middle-aged though physically strong, it was extremely difficult to survive without a dinghy."
      ]
    },
    {
      "cell_type": "markdown",
      "metadata": {
        "id": "WODv4gqP7gBF"
      },
      "source": [
        "**(1 point)** Explore \"passenger class\" and \"embarked\" features. What class was \"the safest\"? Is there any relationship between the embarkation port and the survival? Provide the corresponding visualizations."
      ]
    },
    {
      "cell_type": "code",
      "metadata": {
        "colab": {
          "base_uri": "https://localhost:8080/",
          "height": 295
        },
        "id": "uUlhYoiV7gBF",
        "outputId": "f8872a6f-a8fb-495d-af61-4d38ab2bddfb"
      },
      "source": [
        "cp = sns.countplot(data=data, x='Pclass', hue='Survived')\r\n",
        "cp.set_xticklabels(['1 class', '2 class', '3 class'])\r\n",
        "cp.legend(['deceased', 'survived'])\r\n",
        "plt.xlabel('Passenger class')\r\n",
        "plt.ylabel('Count')\r\n",
        "plt.title('Passenger class survival')\r\n",
        "plt.show()"
      ],
      "execution_count": null,
      "outputs": [
        {
          "output_type": "display_data",
          "data": {
            "image/png": "[encoded data removed]",
            "text/plain": [
              "<Figure size 432x288 with 1 Axes>"
            ]
          },
          "metadata": {
            "tags": [],
            "needs_background": "light"
          }
        }
      ]
    },
    {
      "cell_type": "code",
      "metadata": {
        "colab": {
          "base_uri": "https://localhost:8080/",
          "height": 295
        },
        "id": "x_b47OnJLncU",
        "outputId": "8d7cf35b-5692-4cb5-eff7-a21002b16183"
      },
      "source": [
        "cp = sns.countplot(data=data, x='Embarked', hue='Survived')\r\n",
        "cp.set_xticklabels(['Southampton', 'Cherbourg', 'Queenstown'])\r\n",
        "cp.legend(['deceased', 'survived'])\r\n",
        "plt.ylabel('Count')\r\n",
        "plt.title('Embarked survival')\r\n",
        "plt.show()"
      ],
      "execution_count": null,
      "outputs": [
        {
          "output_type": "display_data",
          "data": {
            "image/png": "[encoded data removed]",
            "text/plain": [
              "<Figure size 432x288 with 1 Axes>"
            ]
          },
          "metadata": {
            "tags": [],
            "needs_background": "light"
          }
        }
      ]
    },
    {
      "cell_type": "markdown",
      "metadata": {
        "id": "jknrMd0q7gBG"
      },
      "source": [
        "The safest is the first class. It is also connected with the order of boarding the boats. The safest port is Cherbourg, most likely due to the wealth of the population in this area."
      ]
    },
    {
      "cell_type": "markdown",
      "metadata": {
        "id": "p35jdJei7gBG"
      },
      "source": [
        "### Modelling"
      ]
    },
    {
      "cell_type": "markdown",
      "metadata": {
        "id": "HrdUlxR97gBG"
      },
      "source": [
        "**(0.5 points)** Find the percentage of missing values for each feature. "
      ]
    },
    {
      "cell_type": "code",
      "metadata": {
        "id": "7iwfaqN17gBG",
        "colab": {
          "base_uri": "https://localhost:8080/",
          "height": 527
        },
        "outputId": "59e8d8dc-2baf-41d9-d09c-832883b0abd4"
      },
      "source": [
        "print('Percentage of missing values:')\r\n",
        "print(data.isnull().sum()/data.shape[0]*100)\r\n",
        "bp = sns.barplot(data=data.isnull())\r\n",
        "plt.setp(bp.get_xticklabels(), rotation=90)\r\n",
        "plt.show()"
      ],
      "execution_count": null,
      "outputs": [
        {
          "output_type": "stream",
          "text": [
            "Percentage of missing values:\n",
            "Survived     0.000000\n",
            "Pclass       0.000000\n",
            "Name         0.000000\n",
            "Sex          0.000000\n",
            "Age         19.865320\n",
            "SibSp        0.000000\n",
            "Parch        0.000000\n",
            "Ticket       0.000000\n",
            "Fare         0.000000\n",
            "Cabin       77.104377\n",
            "Embarked     0.224467\n",
            "dtype: float64\n"
          ],
          "name": "stdout"
        },
        {
          "output_type": "display_data",
          "data": {
            "image/png": "[encoded data removed]",
            "text/plain": [
              "<Figure size 432x288 with 1 Axes>"
            ]
          },
          "metadata": {
            "tags": [],
            "needs_background": "light"
          }
        }
      ]
    },
    {
      "cell_type": "markdown",
      "metadata": {
        "id": "7ul-NQiJ7gBH"
      },
      "source": [
        "Think about the ways to handle these missing values for modelling and write your answer below. Which methods would you suggest? What are their advantages and disadvantages?\n",
        "\n",
        "Missing values were found at the age of 20%, cabin 77%, port 0.2%. In the context of the port, the amount of missing data is not very much and therefore they can be deleted, but you can still use the most common one. I will replace the missing values with Southampton (S) since most people have left from there. But I probably won't use the port in training, since the cabin class is a more significant feature of this type. The age is missing 20%, replacing them with the average value or deleting them would be unwise, it may turn out better if we use the forecast for the passenger status in the name column. The cabin would be a pretty strong indication when studying the ship's plan, but it won't be possible to reconstruct the cabin number from the available data, so we won't use the cabin."
      ]
    },
    {
      "cell_type": "markdown",
      "metadata": {
        "id": "3AK-8fqD7gBH"
      },
      "source": [
        "**(1.5 points)** Prepare the features and train two models (KNN and Logistic Regression) to predict the survival. Compare the results. Use accuracy as a metric. Don't forget about cross-validation!"
      ]
    },
    {
      "cell_type": "code",
      "metadata": {
        "id": "ZConToZP7gBH"
      },
      "source": [
        "y = data['Survived']"
      ],
      "execution_count": null,
      "outputs": []
    },
    {
      "cell_type": "code",
      "metadata": {
        "id": "lzehFjBF2-hK"
      },
      "source": [
        "# functions for preparing features\r\n",
        "def status_extrackt(data):\r\n",
        "  data['Status'] = data['Name'].str.extract(r'(\\w+\\.)')\r\n",
        "  return data\r\n",
        "def fix_age(train, test = None):\r\n",
        "  if test is None:\r\n",
        "    data = train\r\n",
        "  else:\r\n",
        "    data = test\r\n",
        "  for i in train['Status'].unique():\r\n",
        "    for j in train['Sex'].unique():\r\n",
        "      for k in train['Pclass'].unique():\r\n",
        "        temp = train.loc[((train['Status']==i) & (train['Sex'] == j) & (train['Pclass'] == k)), 'Age'].median()\r\n",
        "        data.loc[((data['Status']==i) & (data['Sex'] == j) & (data['Pclass'] == k)), 'Age'] = data.loc[((data['Status']==i) & (data['Sex'] == j) & (data['Pclass'] == k)), 'Age'].fillna(temp)\r\n",
        "  if test is None:\r\n",
        "    return data, train\r\n",
        "  return data\r\n",
        "def one_hot_encoding(data, param, encoder=None, fit=False, drop=None):\r\n",
        "  data = data.reset_index()\r\n",
        "  if encoder is None:\r\n",
        "    encoder = OneHotEncoder(sparse=False, drop=drop)\r\n",
        "    fit = True\r\n",
        "  if fit:\r\n",
        "    encoder.fit(data[param].values.reshape(-1, 1))\r\n",
        "  new_features = encoder.transform(data[param].values.reshape(-1, 1))\r\n",
        "  new_features = pd.DataFrame(new_features, columns=[param + str(i) for i in range(new_features.shape[1])])\r\n",
        "  data = pd.concat([data, new_features], axis=1)\r\n",
        "  data = data.set_index('PassengerId')\r\n",
        "  data = data.drop(param, axis=1)\r\n",
        "  if fit:\r\n",
        "    return data, encoder\r\n",
        "  return data\r\n",
        "def sex_encode(data):\r\n",
        "  data['nSex'] = 0\r\n",
        "  data.loc[data['Sex'] == 'male', 'nSex'] = 1\r\n",
        "  data = data.drop('Sex', axis=1)\r\n",
        "  return data\r\n",
        "def status_encode(data):\r\n",
        "  data['Mr'] = data['Status'].str.match('Mr\\.').astype(int)\r\n",
        "  data['Miss'] = data['Status'].str.match('Miss\\.').astype(int)\r\n",
        "  data['Mrs'] = data['Status'].str.match('Mrs\\.').astype(int)\r\n",
        "  data['Master'] = data['Status'].str.match('Master\\.').astype(int)\r\n",
        "  return data"
      ],
      "execution_count": null,
      "outputs": []
    },
    {
      "cell_type": "code",
      "metadata": {
        "id": "U2f4qxfAVoSZ",
        "colab": {
          "base_uri": "https://localhost:8080/",
          "height": 527
        },
        "outputId": "a401c42e-756e-43c0-e348-7d174fd26fcb"
      },
      "source": [
        "# preparing train features\r\n",
        "train = status_extrackt(data)\r\n",
        "train['Embarked'] = train['Embarked'].fillna('S')\r\n",
        "train, fitten_train = fix_age(train)\r\n",
        "train = sex_encode(train)\r\n",
        "train = status_encode(train)\r\n",
        "train, embarked_encoder = one_hot_encoding(train, 'Embarked', drop='first')\r\n",
        "train['Family'] = train['SibSp'] + train['Parch']\r\n",
        "train.head()"
      ],
      "execution_count": null,
      "outputs": [
        {
          "output_type": "execute_result",
          "data": {
            "text/html": [
              "<div>\n",
              "<style scoped>\n",
              "    .dataframe tbody tr th:only-of-type {\n",
              "        vertical-align: middle;\n",
              "    }\n",
              "\n",
              "    .dataframe tbody tr th {\n",
              "        vertical-align: top;\n",
              "    }\n",
              "\n",
              "    .dataframe thead th {\n",
              "        text-align: right;\n",
              "    }\n",
              "</style>\n",
              "<table border=\"1\" class=\"dataframe\">\n",
              "  <thead>\n",
              "    <tr style=\"text-align: right;\">\n",
              "      <th></th>\n",
              "      <th>Survived</th>\n",
              "      <th>Pclass</th>\n",
              "      <th>Name</th>\n",
              "      <th>Age</th>\n",
              "      <th>SibSp</th>\n",
              "      <th>Parch</th>\n",
              "      <th>Ticket</th>\n",
              "      <th>Fare</th>\n",
              "      <th>Cabin</th>\n",
              "      <th>Status</th>\n",
              "      <th>nSex</th>\n",
              "      <th>Mr</th>\n",
              "      <th>Miss</th>\n",
              "      <th>Mrs</th>\n",
              "      <th>Master</th>\n",
              "      <th>Embarked0</th>\n",
              "      <th>Embarked1</th>\n",
              "      <th>Family</th>\n",
              "    </tr>\n",
              "    <tr>\n",
              "      <th>PassengerId</th>\n",
              "      <th></th>\n",
              "      <th></th>\n",
              "      <th></th>\n",
              "      <th></th>\n",
              "      <th></th>\n",
              "      <th></th>\n",
              "      <th></th>\n",
              "      <th></th>\n",
              "      <th></th>\n",
              "      <th></th>\n",
              "      <th></th>\n",
              "      <th></th>\n",
              "      <th></th>\n",
              "      <th></th>\n",
              "      <th></th>\n",
              "      <th></th>\n",
              "      <th></th>\n",
              "      <th></th>\n",
              "    </tr>\n",
              "  </thead>\n",
              "  <tbody>\n",
              "    <tr>\n",
              "      <th>1</th>\n",
              "      <td>0</td>\n",
              "      <td>3</td>\n",
              "      <td>Braund, Mr. Owen Harris</td>\n",
              "      <td>22.0</td>\n",
              "      <td>1</td>\n",
              "      <td>0</td>\n",
              "      <td>A/5 21171</td>\n",
              "      <td>7.2500</td>\n",
              "      <td>NaN</td>\n",
              "      <td>Mr.</td>\n",
              "      <td>1</td>\n",
              "      <td>1</td>\n",
              "      <td>0</td>\n",
              "      <td>0</td>\n",
              "      <td>0</td>\n",
              "      <td>0.0</td>\n",
              "      <td>1.0</td>\n",
              "      <td>1</td>\n",
              "    </tr>\n",
              "    <tr>\n",
              "      <th>2</th>\n",
              "      <td>1</td>\n",
              "      <td>1</td>\n",
              "      <td>Cumings, Mrs. John Bradley (Florence Briggs Th...</td>\n",
              "      <td>38.0</td>\n",
              "      <td>1</td>\n",
              "      <td>0</td>\n",
              "      <td>PC 17599</td>\n",
              "      <td>71.2833</td>\n",
              "      <td>C85</td>\n",
              "      <td>Mrs.</td>\n",
              "      <td>0</td>\n",
              "      <td>0</td>\n",
              "      <td>0</td>\n",
              "      <td>1</td>\n",
              "      <td>0</td>\n",
              "      <td>0.0</td>\n",
              "      <td>0.0</td>\n",
              "      <td>1</td>\n",
              "    </tr>\n",
              "    <tr>\n",
              "      <th>3</th>\n",
              "      <td>1</td>\n",
              "      <td>3</td>\n",
              "      <td>Heikkinen, Miss. Laina</td>\n",
              "      <td>26.0</td>\n",
              "      <td>0</td>\n",
              "      <td>0</td>\n",
              "      <td>STON/O2. 3101282</td>\n",
              "      <td>7.9250</td>\n",
              "      <td>NaN</td>\n",
              "      <td>Miss.</td>\n",
              "      <td>0</td>\n",
              "      <td>0</td>\n",
              "      <td>1</td>\n",
              "      <td>0</td>\n",
              "      <td>0</td>\n",
              "      <td>0.0</td>\n",
              "      <td>1.0</td>\n",
              "      <td>0</td>\n",
              "    </tr>\n",
              "    <tr>\n",
              "      <th>4</th>\n",
              "      <td>1</td>\n",
              "      <td>1</td>\n",
              "      <td>Futrelle, Mrs. Jacques Heath (Lily May Peel)</td>\n",
              "      <td>35.0</td>\n",
              "      <td>1</td>\n",
              "      <td>0</td>\n",
              "      <td>113803</td>\n",
              "      <td>53.1000</td>\n",
              "      <td>C123</td>\n",
              "      <td>Mrs.</td>\n",
              "      <td>0</td>\n",
              "      <td>0</td>\n",
              "      <td>0</td>\n",
              "      <td>1</td>\n",
              "      <td>0</td>\n",
              "      <td>0.0</td>\n",
              "      <td>1.0</td>\n",
              "      <td>1</td>\n",
              "    </tr>\n",
              "    <tr>\n",
              "      <th>5</th>\n",
              "      <td>0</td>\n",
              "      <td>3</td>\n",
              "      <td>Allen, Mr. William Henry</td>\n",
              "      <td>35.0</td>\n",
              "      <td>0</td>\n",
              "      <td>0</td>\n",
              "      <td>373450</td>\n",
              "      <td>8.0500</td>\n",
              "      <td>NaN</td>\n",
              "      <td>Mr.</td>\n",
              "      <td>1</td>\n",
              "      <td>1</td>\n",
              "      <td>0</td>\n",
              "      <td>0</td>\n",
              "      <td>0</td>\n",
              "      <td>0.0</td>\n",
              "      <td>1.0</td>\n",
              "      <td>0</td>\n",
              "    </tr>\n",
              "  </tbody>\n",
              "</table>\n",
              "</div>"
            ],
            "text/plain": [
              "             Survived  Pclass  ... Embarked1  Family\n",
              "PassengerId                    ...                  \n",
              "1                   0       3  ...       1.0       1\n",
              "2                   1       1  ...       0.0       1\n",
              "3                   1       3  ...       1.0       0\n",
              "4                   1       1  ...       1.0       1\n",
              "5                   0       3  ...       1.0       0\n",
              "\n",
              "[5 rows x 18 columns]"
            ]
          },
          "metadata": {
            "tags": []
          },
          "execution_count": 670
        }
      ]
    },
    {
      "cell_type": "code",
      "metadata": {
        "id": "xU9uy8jtQZru"
      },
      "source": [
        "futures_clf = ['nSex', 'Age', 'Pclass', 'Mr', 'Miss', 'Mrs', 'Master', 'Embarked0', 'Embarked1', 'Fare', 'SibSp',\t'Parch', 'Family']\r\n",
        "X = train[futures_clf]\r\n",
        "cv = KFold(5, random_state=42, shuffle=True)"
      ],
      "execution_count": null,
      "outputs": []
    },
    {
      "cell_type": "code",
      "metadata": {
        "id": "tMtcjWcQSP8u"
      },
      "source": [
        "# custom class for selecting features\r\n",
        "class FeatureSelector(BaseEstimator, TransformerMixin):\r\n",
        "  def __init__(self, columns):\r\n",
        "    self.columns = columns\r\n",
        "\r\n",
        "  def fit(self, X, y=None):\r\n",
        "    return self\r\n",
        "  \r\n",
        "  def transform(self, X, y=None):\r\n",
        "    return X[self.columns]"
      ],
      "execution_count": null,
      "outputs": []
    },
    {
      "cell_type": "code",
      "metadata": {
        "id": "vcZcvhECqnX8",
        "colab": {
          "base_uri": "https://localhost:8080/"
        },
        "outputId": "d293684e-0425-4792-836b-d293aa21c6e5"
      },
      "source": [
        "# the best parameters for LogisticRegression are selected based on research, the extra code is removed, for your convenience\r\n",
        "best_clf = Pipeline(memory=None,\r\n",
        "         steps=[('selector',\r\n",
        "                 FeatureSelector(columns=['Pclass', 'Mr', 'Miss', 'Mrs', 'Master', 'Age', 'Embarked0', 'Embarked1', 'Family'])),\r\n",
        "                ('scaler', MinMaxScaler()),\r\n",
        "                ('clf',\r\n",
        "                 LogisticRegression(C=1.65, class_weight=None,\r\n",
        "                                    dual=False, fit_intercept=True,\r\n",
        "                                    intercept_scaling=1, l1_ratio=None,\r\n",
        "                                    max_iter=1000, multi_class='auto',\r\n",
        "                                    n_jobs=-1, penalty='l2', random_state=42,\r\n",
        "                                    solver='saga', tol=0.0001, verbose=0,\r\n",
        "                                    warm_start=False))],\r\n",
        "         verbose=False)\r\n",
        "clf_cv = cross_validate(best_clf, X, y, scoring='accuracy', cv=cv, n_jobs=-1, verbose=3, return_train_score=True, return_estimator=True)\r\n",
        "clf_cv['test_score'].mean()"
      ],
      "execution_count": null,
      "outputs": [
        {
          "output_type": "stream",
          "text": [
            "[Parallel(n_jobs=-1)]: Using backend LokyBackend with 2 concurrent workers.\n",
            "[Parallel(n_jobs=-1)]: Done   5 out of   5 | elapsed:    0.4s finished\n"
          ],
          "name": "stderr"
        },
        {
          "output_type": "execute_result",
          "data": {
            "text/plain": [
              "0.8294143493817087"
            ]
          },
          "metadata": {
            "tags": []
          },
          "execution_count": 676
        }
      ]
    },
    {
      "cell_type": "code",
      "metadata": {
        "colab": {
          "base_uri": "https://localhost:8080/"
        },
        "id": "WiyYJene5ETm",
        "outputId": "feb186ed-8156-470e-fc3e-4bd8791ebdb3"
      },
      "source": [
        "clf_cv['test_score'].mean()"
      ],
      "execution_count": null,
      "outputs": [
        {
          "output_type": "execute_result",
          "data": {
            "text/plain": [
              "0.8294143493817087"
            ]
          },
          "metadata": {
            "tags": []
          },
          "execution_count": 665
        }
      ]
    },
    {
      "cell_type": "code",
      "metadata": {
        "id": "LBxkHTXjaSfM",
        "colab": {
          "base_uri": "https://localhost:8080/"
        },
        "outputId": "20432db4-cec2-42b5-c8f3-e361c4c3e5a3"
      },
      "source": [
        "# the best parameters for KNeighborsClassifier are selected based on research, the extra code is removed, for your convenience\r\n",
        "best_knn = Pipeline(steps=[('selector',\r\n",
        "                 FeatureSelector(columns=['Pclass', 'Mr', 'Miss', 'Embarked0', 'Embarked1'])),\r\n",
        "                ('norm', Normalizer()),\r\n",
        "                ('knn',\r\n",
        "                 KNeighborsClassifier(algorithm='brute', leaf_size=30,\r\n",
        "                                      metric='mahalanobis', metric_params=None,\r\n",
        "                                      n_jobs=-1, n_neighbors=23, p=2,\r\n",
        "                                      weights='uniform'))],\r\n",
        "         verbose=False)\r\n",
        "knn_cv = cross_validate(best_knn, X, y, scoring='accuracy', cv=cv, n_jobs=-1, verbose=3, return_train_score=True)\r\n",
        "knn_cv['test_score'].mean()"
      ],
      "execution_count": null,
      "outputs": [
        {
          "output_type": "stream",
          "text": [
            "[Parallel(n_jobs=-1)]: Using backend LokyBackend with 2 concurrent workers.\n",
            "[Parallel(n_jobs=-1)]: Done   5 out of   5 | elapsed:    0.8s finished\n"
          ],
          "name": "stderr"
        },
        {
          "output_type": "execute_result",
          "data": {
            "text/plain": [
              "0.8148264390182662"
            ]
          },
          "metadata": {
            "tags": []
          },
          "execution_count": 666
        }
      ]
    },
    {
      "cell_type": "code",
      "metadata": {
        "colab": {
          "base_uri": "https://localhost:8080/"
        },
        "id": "YJdWL6r454hF",
        "outputId": "148a19f2-7046-48cc-e263-39c2131e38e2"
      },
      "source": [
        "knn_cv['test_score'].mean()"
      ],
      "execution_count": null,
      "outputs": [
        {
          "output_type": "execute_result",
          "data": {
            "text/plain": [
              "0.8148264390182662"
            ]
          },
          "metadata": {
            "tags": []
          },
          "execution_count": 650
        }
      ]
    },
    {
      "cell_type": "code",
      "metadata": {
        "colab": {
          "base_uri": "https://localhost:8080/"
        },
        "id": "qNLBBubfaecP",
        "outputId": "b33ed034-84e9-484f-e766-0aa473bceef8"
      },
      "source": [
        "# training with the use of LogisticRegression and KNeighborsClassifier\r\n",
        "estimators = [('clf', best_clf), ('knn', best_knn)]\r\n",
        "reg = StackingClassifier(estimators=estimators, cv=cv)\r\n",
        "reg.fit(X, y)\r\n",
        "predict = reg.predict(X)\r\n",
        "accuracy_score(y, predict)"
      ],
      "execution_count": null,
      "outputs": [
        {
          "output_type": "execute_result",
          "data": {
            "text/plain": [
              "0.8316498316498316"
            ]
          },
          "metadata": {
            "tags": []
          },
          "execution_count": 667
        }
      ]
    },
    {
      "cell_type": "markdown",
      "metadata": {
        "id": "vcqzl9Is7gBI"
      },
      "source": [
        "**(0.5 + X points)** Try more feature engineering and hyperparameter tuning to improve the results. You may use either KNN or Logistic Regression (or both)."
      ]
    },
    {
      "cell_type": "code",
      "metadata": {
        "id": "jCg0F81S7gBI",
        "colab": {
          "base_uri": "https://localhost:8080/",
          "height": 235
        },
        "outputId": "cee91d67-111e-46eb-9398-801fd7973938"
      },
      "source": [
        "PATH = \"https://storage.googleapis.com/kagglesdsdata/competitions/3136/26502/test.csv?GoogleAccessId=web-data@kaggle-161607.iam.gserviceaccount.com&Expires=1614840177&Signature=E%2B1b0z8IRxLk0ETfKplkiOFZuybN0p8Ju%2F74Dvtv%2FMGiWHpIzUj5gSE7y0QI7Ri7V28tbxtJOzKlp05YdigGpEeic4s46bcDBCpi9KjH7XyV8PuhQ5nDS5xjAqpoOKcSPY7Obmt3VZWi4xyGaICEag%2BcFaeqZTtGzrqjlbckm9eOyoryv7eLZ7GhGTY6luCX4%2Fl7jsEgbhHHlS4eyth3vQCnCLuUck3Jn3YIcTqW4ZGdVfkwT191Z9axXILZF%2BMqJSE4l5ei%2F7O4AsilaLCzJYw85XVB9CYxz3VjGA1mkc1w11ytXDbuWF9b24PD%2FI4KPQ0j5ePxElWUqyYcF0zgcw%3D%3D&response-content-disposition=attachment%3B+filename%3Dtest.csv\"\r\n",
        "data_test = pd.read_csv(os.path.join(PATH, 'titanic', 'test.csv')).set_index('PassengerId')\r\n",
        "data_test.head()"
      ],
      "execution_count": null,
      "outputs": [
        {
          "output_type": "execute_result",
          "data": {
            "text/html": [
              "<div>\n",
              "<style scoped>\n",
              "    .dataframe tbody tr th:only-of-type {\n",
              "        vertical-align: middle;\n",
              "    }\n",
              "\n",
              "    .dataframe tbody tr th {\n",
              "        vertical-align: top;\n",
              "    }\n",
              "\n",
              "    .dataframe thead th {\n",
              "        text-align: right;\n",
              "    }\n",
              "</style>\n",
              "<table border=\"1\" class=\"dataframe\">\n",
              "  <thead>\n",
              "    <tr style=\"text-align: right;\">\n",
              "      <th></th>\n",
              "      <th>Pclass</th>\n",
              "      <th>Name</th>\n",
              "      <th>Sex</th>\n",
              "      <th>Age</th>\n",
              "      <th>SibSp</th>\n",
              "      <th>Parch</th>\n",
              "      <th>Ticket</th>\n",
              "      <th>Fare</th>\n",
              "      <th>Cabin</th>\n",
              "      <th>Embarked</th>\n",
              "    </tr>\n",
              "    <tr>\n",
              "      <th>PassengerId</th>\n",
              "      <th></th>\n",
              "      <th></th>\n",
              "      <th></th>\n",
              "      <th></th>\n",
              "      <th></th>\n",
              "      <th></th>\n",
              "      <th></th>\n",
              "      <th></th>\n",
              "      <th></th>\n",
              "      <th></th>\n",
              "    </tr>\n",
              "  </thead>\n",
              "  <tbody>\n",
              "    <tr>\n",
              "      <th>892</th>\n",
              "      <td>3</td>\n",
              "      <td>Kelly, Mr. James</td>\n",
              "      <td>male</td>\n",
              "      <td>34.5</td>\n",
              "      <td>0</td>\n",
              "      <td>0</td>\n",
              "      <td>330911</td>\n",
              "      <td>7.8292</td>\n",
              "      <td>NaN</td>\n",
              "      <td>Q</td>\n",
              "    </tr>\n",
              "    <tr>\n",
              "      <th>893</th>\n",
              "      <td>3</td>\n",
              "      <td>Wilkes, Mrs. James (Ellen Needs)</td>\n",
              "      <td>female</td>\n",
              "      <td>47.0</td>\n",
              "      <td>1</td>\n",
              "      <td>0</td>\n",
              "      <td>363272</td>\n",
              "      <td>7.0000</td>\n",
              "      <td>NaN</td>\n",
              "      <td>S</td>\n",
              "    </tr>\n",
              "    <tr>\n",
              "      <th>894</th>\n",
              "      <td>2</td>\n",
              "      <td>Myles, Mr. Thomas Francis</td>\n",
              "      <td>male</td>\n",
              "      <td>62.0</td>\n",
              "      <td>0</td>\n",
              "      <td>0</td>\n",
              "      <td>240276</td>\n",
              "      <td>9.6875</td>\n",
              "      <td>NaN</td>\n",
              "      <td>Q</td>\n",
              "    </tr>\n",
              "    <tr>\n",
              "      <th>895</th>\n",
              "      <td>3</td>\n",
              "      <td>Wirz, Mr. Albert</td>\n",
              "      <td>male</td>\n",
              "      <td>27.0</td>\n",
              "      <td>0</td>\n",
              "      <td>0</td>\n",
              "      <td>315154</td>\n",
              "      <td>8.6625</td>\n",
              "      <td>NaN</td>\n",
              "      <td>S</td>\n",
              "    </tr>\n",
              "    <tr>\n",
              "      <th>896</th>\n",
              "      <td>3</td>\n",
              "      <td>Hirvonen, Mrs. Alexander (Helga E Lindqvist)</td>\n",
              "      <td>female</td>\n",
              "      <td>22.0</td>\n",
              "      <td>1</td>\n",
              "      <td>1</td>\n",
              "      <td>3101298</td>\n",
              "      <td>12.2875</td>\n",
              "      <td>NaN</td>\n",
              "      <td>S</td>\n",
              "    </tr>\n",
              "  </tbody>\n",
              "</table>\n",
              "</div>"
            ],
            "text/plain": [
              "             Pclass  ... Embarked\n",
              "PassengerId          ...         \n",
              "892               3  ...        Q\n",
              "893               3  ...        S\n",
              "894               2  ...        Q\n",
              "895               3  ...        S\n",
              "896               3  ...        S\n",
              "\n",
              "[5 rows x 10 columns]"
            ]
          },
          "metadata": {
            "tags": []
          },
          "execution_count": 668
        }
      ]
    },
    {
      "cell_type": "code",
      "metadata": {
        "id": "smgDOBLW_h4-"
      },
      "source": [
        "# preparing test features\r\n",
        "test = status_extrackt(data_test)\r\n",
        "test['Embarked'] = test['Embarked'].fillna('S')\r\n",
        "test = fix_age(fitten_train, test)\r\n",
        "test = sex_encode(test)\r\n",
        "test = status_encode(test)\r\n",
        "test = one_hot_encoding(test, 'Embarked', drop='first', encoder=embarked_encoder)\r\n",
        "test['Family'] = test['SibSp'] + test['Parch']\r\n",
        "X_test = test[futures_clf]\r\n",
        "X_test = X_test.fillna(X_test.median())"
      ],
      "execution_count": null,
      "outputs": []
    },
    {
      "cell_type": "code",
      "metadata": {
        "id": "udw4X3psD8ED",
        "colab": {
          "base_uri": "https://localhost:8080/"
        },
        "outputId": "79553c09-41a6-4065-b777-1be4440c85d7"
      },
      "source": [
        "# predicting with LogisticRegression\r\n",
        "best_clf.fit(X, y)\r\n",
        "predict_test_clf = best_clf.predict(X_test)\r\n",
        "test['Survived'] = predict_test_clf\r\n",
        "test['Survived'].to_csv('titanik_submission_clf.csv')\r\n",
        "test['Survived'].head()"
      ],
      "execution_count": null,
      "outputs": [
        {
          "output_type": "execute_result",
          "data": {
            "text/plain": [
              "PassengerId\n",
              "892    0\n",
              "893    1\n",
              "894    0\n",
              "895    0\n",
              "896    1\n",
              "Name: Survived, dtype: int64"
            ]
          },
          "metadata": {
            "tags": []
          },
          "execution_count": 677
        }
      ]
    },
    {
      "cell_type": "code",
      "metadata": {
        "id": "n5JNYQINb_Xq",
        "colab": {
          "base_uri": "https://localhost:8080/"
        },
        "outputId": "575beab0-c671-4438-d959-ca93b37fb760"
      },
      "source": [
        "# predicting with KNeighborsClassifier\r\n",
        "best_knn.fit(X, y)\r\n",
        "predict_test_knn = best_knn.predict(X_test)\r\n",
        "test['Survived'] = predict_test_knn\r\n",
        "test['Survived'].to_csv('titanik_submission_knn.csv')\r\n",
        "test['Survived'].head()"
      ],
      "execution_count": null,
      "outputs": [
        {
          "output_type": "execute_result",
          "data": {
            "text/plain": [
              "PassengerId\n",
              "892    0\n",
              "893    0\n",
              "894    0\n",
              "895    0\n",
              "896    0\n",
              "Name: Survived, dtype: int64"
            ]
          },
          "metadata": {
            "tags": []
          },
          "execution_count": 678
        }
      ]
    },
    {
      "cell_type": "code",
      "metadata": {
        "colab": {
          "base_uri": "https://localhost:8080/"
        },
        "id": "G4vHL4Stkr8p",
        "outputId": "03dd2b6e-5049-4396-b0d3-c57e9b36de7e"
      },
      "source": [
        "# predicting with LogisticRegression and KNeighborsClassifier\r\n",
        "reg_all = StackingClassifier(estimators=estimators)\r\n",
        "reg_all.fit(X, y)\r\n",
        "predict_test = reg_all.predict(X_test)\r\n",
        "test['Survived']=predict_test\r\n",
        "test['Survived'].to_csv('titanik_submission_all.csv')\r\n",
        "test['Survived'].head()"
      ],
      "execution_count": null,
      "outputs": [
        {
          "output_type": "execute_result",
          "data": {
            "text/plain": [
              "PassengerId\n",
              "892    0\n",
              "893    1\n",
              "894    0\n",
              "895    0\n",
              "896    1\n",
              "Name: Survived, dtype: int64"
            ]
          },
          "metadata": {
            "tags": []
          },
          "execution_count": 683
        }
      ]
    },
    {
      "cell_type": "markdown",
      "metadata": {
        "id": "YLozTv1J7gBI"
      },
      "source": [
        "Load the test set and make the predictions. Submit them to kaggle and see the results :)\n",
        "Select the best model, load the test set and make the predictions. Submit them to kaggle.\n",
        "\n",
        "**Note**. X points will depend on your kaggle leaderboard score.\n",
        "$$ f(score) = 0.5, \\ \\ 0.76 \\leq score < 0.78,$$\n",
        "$$ f(score) = 1.0, \\ \\ 0.78 \\leq score < 0.81,$$ \n",
        "$$ f(score) = 2.5, \\ \\ 0.81 \\leq score $$ \n",
        "Your code should generate the output submitted to kaggle. Fix random seeds to make the results reproducible."
      ]
    },
    {
      "cell_type": "markdown",
      "metadata": {
        "id": "gYAUngzaKLxS"
      },
      "source": [
        "Мой код был рефакторинг для загрузки в kaggle. Мое имя пользователя: [insafbakirov](https://www.kaggle.com/insafbakirov/). Мой скор в kaggle 0.79186."
      ]
    }
  ]
}